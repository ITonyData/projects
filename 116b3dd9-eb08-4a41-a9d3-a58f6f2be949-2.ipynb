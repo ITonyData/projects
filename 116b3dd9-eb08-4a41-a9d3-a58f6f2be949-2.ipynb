{
 "cells": [
  {
   "cell_type": "markdown",
   "id": "e7d79cb2",
   "metadata": {
    "deletable": false,
    "editable": false,
    "id": "c81daeeb"
   },
   "source": [
    "# Исследование надежности заемщиков\n"
   ]
  },
  {
   "cell_type": "markdown",
   "id": "5ecd6ae4",
   "metadata": {
    "deletable": false,
    "editable": false,
    "id": "827c20bf"
   },
   "source": [
    "Во второй части проекта вы выполните шаги 3 и 4. Их вручную проверит ревьюер.\n",
    "Чтобы вам не пришлось писать код заново для шагов 1 и 2, мы добавили авторские решения в ячейки с кодом. \n",
    "\n"
   ]
  },
  {
   "cell_type": "markdown",
   "id": "ac2a4f62",
   "metadata": {
    "deletable": false,
    "editable": false,
    "id": "744d7639"
   },
   "source": [
    "## Откройте таблицу и изучите общую информацию о данных"
   ]
  },
  {
   "cell_type": "markdown",
   "id": "90c3de11",
   "metadata": {
    "deletable": false,
    "editable": false,
    "id": "e7a14c31"
   },
   "source": [
    "**Задание 1. Импортируйте библиотеку pandas. Считайте данные из csv-файла в датафрейм и сохраните в переменную `data`. Путь к файлу:**\n",
    "\n",
    "`/datasets/data.csv`"
   ]
  },
  {
   "cell_type": "code",
   "execution_count": 1,
   "id": "eedddc31",
   "metadata": {
    "deletable": false,
    "id": "7bcf75c9"
   },
   "outputs": [],
   "source": [
    "import pandas as pd\n",
    "\n",
    "try:\n",
    "    data = pd.read_csv('/datasets/data.csv')\n",
    "except:\n",
    "    data = pd.read_csv('https://code.s3.yandex.net/datasets/data.csv')"
   ]
  },
  {
   "cell_type": "markdown",
   "id": "d8e60ff5",
   "metadata": {
    "deletable": false,
    "editable": false,
    "id": "b8038fe3"
   },
   "source": [
    "**Задание 2. Выведите первые 20 строчек датафрейма `data` на экран.**"
   ]
  },
  {
   "cell_type": "code",
   "execution_count": 2,
   "id": "5995e7df",
   "metadata": {
    "deletable": false,
    "id": "2a7cab99",
    "outputId": "1a8f3ef2-d323-4ec2-ddf7-89670b5944c4"
   },
   "outputs": [
    {
     "data": {
      "text/html": [
       "<div>\n",
       "<style scoped>\n",
       "    .dataframe tbody tr th:only-of-type {\n",
       "        vertical-align: middle;\n",
       "    }\n",
       "\n",
       "    .dataframe tbody tr th {\n",
       "        vertical-align: top;\n",
       "    }\n",
       "\n",
       "    .dataframe thead th {\n",
       "        text-align: right;\n",
       "    }\n",
       "</style>\n",
       "<table border=\"1\" class=\"dataframe\">\n",
       "  <thead>\n",
       "    <tr style=\"text-align: right;\">\n",
       "      <th></th>\n",
       "      <th>children</th>\n",
       "      <th>days_employed</th>\n",
       "      <th>dob_years</th>\n",
       "      <th>education</th>\n",
       "      <th>education_id</th>\n",
       "      <th>family_status</th>\n",
       "      <th>family_status_id</th>\n",
       "      <th>gender</th>\n",
       "      <th>income_type</th>\n",
       "      <th>debt</th>\n",
       "      <th>total_income</th>\n",
       "      <th>purpose</th>\n",
       "    </tr>\n",
       "  </thead>\n",
       "  <tbody>\n",
       "    <tr>\n",
       "      <th>0</th>\n",
       "      <td>1</td>\n",
       "      <td>-8437.673028</td>\n",
       "      <td>42</td>\n",
       "      <td>высшее</td>\n",
       "      <td>0</td>\n",
       "      <td>женат / замужем</td>\n",
       "      <td>0</td>\n",
       "      <td>F</td>\n",
       "      <td>сотрудник</td>\n",
       "      <td>0</td>\n",
       "      <td>253875.639453</td>\n",
       "      <td>покупка жилья</td>\n",
       "    </tr>\n",
       "    <tr>\n",
       "      <th>1</th>\n",
       "      <td>1</td>\n",
       "      <td>-4024.803754</td>\n",
       "      <td>36</td>\n",
       "      <td>среднее</td>\n",
       "      <td>1</td>\n",
       "      <td>женат / замужем</td>\n",
       "      <td>0</td>\n",
       "      <td>F</td>\n",
       "      <td>сотрудник</td>\n",
       "      <td>0</td>\n",
       "      <td>112080.014102</td>\n",
       "      <td>приобретение автомобиля</td>\n",
       "    </tr>\n",
       "    <tr>\n",
       "      <th>2</th>\n",
       "      <td>0</td>\n",
       "      <td>-5623.422610</td>\n",
       "      <td>33</td>\n",
       "      <td>Среднее</td>\n",
       "      <td>1</td>\n",
       "      <td>женат / замужем</td>\n",
       "      <td>0</td>\n",
       "      <td>M</td>\n",
       "      <td>сотрудник</td>\n",
       "      <td>0</td>\n",
       "      <td>145885.952297</td>\n",
       "      <td>покупка жилья</td>\n",
       "    </tr>\n",
       "    <tr>\n",
       "      <th>3</th>\n",
       "      <td>3</td>\n",
       "      <td>-4124.747207</td>\n",
       "      <td>32</td>\n",
       "      <td>среднее</td>\n",
       "      <td>1</td>\n",
       "      <td>женат / замужем</td>\n",
       "      <td>0</td>\n",
       "      <td>M</td>\n",
       "      <td>сотрудник</td>\n",
       "      <td>0</td>\n",
       "      <td>267628.550329</td>\n",
       "      <td>дополнительное образование</td>\n",
       "    </tr>\n",
       "    <tr>\n",
       "      <th>4</th>\n",
       "      <td>0</td>\n",
       "      <td>340266.072047</td>\n",
       "      <td>53</td>\n",
       "      <td>среднее</td>\n",
       "      <td>1</td>\n",
       "      <td>гражданский брак</td>\n",
       "      <td>1</td>\n",
       "      <td>F</td>\n",
       "      <td>пенсионер</td>\n",
       "      <td>0</td>\n",
       "      <td>158616.077870</td>\n",
       "      <td>сыграть свадьбу</td>\n",
       "    </tr>\n",
       "    <tr>\n",
       "      <th>5</th>\n",
       "      <td>0</td>\n",
       "      <td>-926.185831</td>\n",
       "      <td>27</td>\n",
       "      <td>высшее</td>\n",
       "      <td>0</td>\n",
       "      <td>гражданский брак</td>\n",
       "      <td>1</td>\n",
       "      <td>M</td>\n",
       "      <td>компаньон</td>\n",
       "      <td>0</td>\n",
       "      <td>255763.565419</td>\n",
       "      <td>покупка жилья</td>\n",
       "    </tr>\n",
       "    <tr>\n",
       "      <th>6</th>\n",
       "      <td>0</td>\n",
       "      <td>-2879.202052</td>\n",
       "      <td>43</td>\n",
       "      <td>высшее</td>\n",
       "      <td>0</td>\n",
       "      <td>женат / замужем</td>\n",
       "      <td>0</td>\n",
       "      <td>F</td>\n",
       "      <td>компаньон</td>\n",
       "      <td>0</td>\n",
       "      <td>240525.971920</td>\n",
       "      <td>операции с жильем</td>\n",
       "    </tr>\n",
       "    <tr>\n",
       "      <th>7</th>\n",
       "      <td>0</td>\n",
       "      <td>-152.779569</td>\n",
       "      <td>50</td>\n",
       "      <td>СРЕДНЕЕ</td>\n",
       "      <td>1</td>\n",
       "      <td>женат / замужем</td>\n",
       "      <td>0</td>\n",
       "      <td>M</td>\n",
       "      <td>сотрудник</td>\n",
       "      <td>0</td>\n",
       "      <td>135823.934197</td>\n",
       "      <td>образование</td>\n",
       "    </tr>\n",
       "    <tr>\n",
       "      <th>8</th>\n",
       "      <td>2</td>\n",
       "      <td>-6929.865299</td>\n",
       "      <td>35</td>\n",
       "      <td>ВЫСШЕЕ</td>\n",
       "      <td>0</td>\n",
       "      <td>гражданский брак</td>\n",
       "      <td>1</td>\n",
       "      <td>F</td>\n",
       "      <td>сотрудник</td>\n",
       "      <td>0</td>\n",
       "      <td>95856.832424</td>\n",
       "      <td>на проведение свадьбы</td>\n",
       "    </tr>\n",
       "    <tr>\n",
       "      <th>9</th>\n",
       "      <td>0</td>\n",
       "      <td>-2188.756445</td>\n",
       "      <td>41</td>\n",
       "      <td>среднее</td>\n",
       "      <td>1</td>\n",
       "      <td>женат / замужем</td>\n",
       "      <td>0</td>\n",
       "      <td>M</td>\n",
       "      <td>сотрудник</td>\n",
       "      <td>0</td>\n",
       "      <td>144425.938277</td>\n",
       "      <td>покупка жилья для семьи</td>\n",
       "    </tr>\n",
       "    <tr>\n",
       "      <th>10</th>\n",
       "      <td>2</td>\n",
       "      <td>-4171.483647</td>\n",
       "      <td>36</td>\n",
       "      <td>высшее</td>\n",
       "      <td>0</td>\n",
       "      <td>женат / замужем</td>\n",
       "      <td>0</td>\n",
       "      <td>M</td>\n",
       "      <td>компаньон</td>\n",
       "      <td>0</td>\n",
       "      <td>113943.491460</td>\n",
       "      <td>покупка недвижимости</td>\n",
       "    </tr>\n",
       "    <tr>\n",
       "      <th>11</th>\n",
       "      <td>0</td>\n",
       "      <td>-792.701887</td>\n",
       "      <td>40</td>\n",
       "      <td>среднее</td>\n",
       "      <td>1</td>\n",
       "      <td>женат / замужем</td>\n",
       "      <td>0</td>\n",
       "      <td>F</td>\n",
       "      <td>сотрудник</td>\n",
       "      <td>0</td>\n",
       "      <td>77069.234271</td>\n",
       "      <td>покупка коммерческой недвижимости</td>\n",
       "    </tr>\n",
       "    <tr>\n",
       "      <th>12</th>\n",
       "      <td>0</td>\n",
       "      <td>NaN</td>\n",
       "      <td>65</td>\n",
       "      <td>среднее</td>\n",
       "      <td>1</td>\n",
       "      <td>гражданский брак</td>\n",
       "      <td>1</td>\n",
       "      <td>M</td>\n",
       "      <td>пенсионер</td>\n",
       "      <td>0</td>\n",
       "      <td>NaN</td>\n",
       "      <td>сыграть свадьбу</td>\n",
       "    </tr>\n",
       "    <tr>\n",
       "      <th>13</th>\n",
       "      <td>0</td>\n",
       "      <td>-1846.641941</td>\n",
       "      <td>54</td>\n",
       "      <td>неоконченное высшее</td>\n",
       "      <td>2</td>\n",
       "      <td>женат / замужем</td>\n",
       "      <td>0</td>\n",
       "      <td>F</td>\n",
       "      <td>сотрудник</td>\n",
       "      <td>0</td>\n",
       "      <td>130458.228857</td>\n",
       "      <td>приобретение автомобиля</td>\n",
       "    </tr>\n",
       "    <tr>\n",
       "      <th>14</th>\n",
       "      <td>0</td>\n",
       "      <td>-1844.956182</td>\n",
       "      <td>56</td>\n",
       "      <td>высшее</td>\n",
       "      <td>0</td>\n",
       "      <td>гражданский брак</td>\n",
       "      <td>1</td>\n",
       "      <td>F</td>\n",
       "      <td>компаньон</td>\n",
       "      <td>1</td>\n",
       "      <td>165127.911772</td>\n",
       "      <td>покупка жилой недвижимости</td>\n",
       "    </tr>\n",
       "    <tr>\n",
       "      <th>15</th>\n",
       "      <td>1</td>\n",
       "      <td>-972.364419</td>\n",
       "      <td>26</td>\n",
       "      <td>среднее</td>\n",
       "      <td>1</td>\n",
       "      <td>женат / замужем</td>\n",
       "      <td>0</td>\n",
       "      <td>F</td>\n",
       "      <td>сотрудник</td>\n",
       "      <td>0</td>\n",
       "      <td>116820.904450</td>\n",
       "      <td>строительство собственной недвижимости</td>\n",
       "    </tr>\n",
       "    <tr>\n",
       "      <th>16</th>\n",
       "      <td>0</td>\n",
       "      <td>-1719.934226</td>\n",
       "      <td>35</td>\n",
       "      <td>среднее</td>\n",
       "      <td>1</td>\n",
       "      <td>женат / замужем</td>\n",
       "      <td>0</td>\n",
       "      <td>F</td>\n",
       "      <td>сотрудник</td>\n",
       "      <td>0</td>\n",
       "      <td>289202.704229</td>\n",
       "      <td>недвижимость</td>\n",
       "    </tr>\n",
       "    <tr>\n",
       "      <th>17</th>\n",
       "      <td>0</td>\n",
       "      <td>-2369.999720</td>\n",
       "      <td>33</td>\n",
       "      <td>высшее</td>\n",
       "      <td>0</td>\n",
       "      <td>гражданский брак</td>\n",
       "      <td>1</td>\n",
       "      <td>M</td>\n",
       "      <td>сотрудник</td>\n",
       "      <td>0</td>\n",
       "      <td>90410.586745</td>\n",
       "      <td>строительство недвижимости</td>\n",
       "    </tr>\n",
       "    <tr>\n",
       "      <th>18</th>\n",
       "      <td>0</td>\n",
       "      <td>400281.136913</td>\n",
       "      <td>53</td>\n",
       "      <td>среднее</td>\n",
       "      <td>1</td>\n",
       "      <td>вдовец / вдова</td>\n",
       "      <td>2</td>\n",
       "      <td>F</td>\n",
       "      <td>пенсионер</td>\n",
       "      <td>0</td>\n",
       "      <td>56823.777243</td>\n",
       "      <td>на покупку подержанного автомобиля</td>\n",
       "    </tr>\n",
       "    <tr>\n",
       "      <th>19</th>\n",
       "      <td>0</td>\n",
       "      <td>-10038.818549</td>\n",
       "      <td>48</td>\n",
       "      <td>СРЕДНЕЕ</td>\n",
       "      <td>1</td>\n",
       "      <td>в разводе</td>\n",
       "      <td>3</td>\n",
       "      <td>F</td>\n",
       "      <td>сотрудник</td>\n",
       "      <td>0</td>\n",
       "      <td>242831.107982</td>\n",
       "      <td>на покупку своего автомобиля</td>\n",
       "    </tr>\n",
       "  </tbody>\n",
       "</table>\n",
       "</div>"
      ],
      "text/plain": [
       "    children  days_employed  dob_years            education  education_id  \\\n",
       "0          1   -8437.673028         42               высшее             0   \n",
       "1          1   -4024.803754         36              среднее             1   \n",
       "2          0   -5623.422610         33              Среднее             1   \n",
       "3          3   -4124.747207         32              среднее             1   \n",
       "4          0  340266.072047         53              среднее             1   \n",
       "5          0    -926.185831         27               высшее             0   \n",
       "6          0   -2879.202052         43               высшее             0   \n",
       "7          0    -152.779569         50              СРЕДНЕЕ             1   \n",
       "8          2   -6929.865299         35               ВЫСШЕЕ             0   \n",
       "9          0   -2188.756445         41              среднее             1   \n",
       "10         2   -4171.483647         36               высшее             0   \n",
       "11         0    -792.701887         40              среднее             1   \n",
       "12         0            NaN         65              среднее             1   \n",
       "13         0   -1846.641941         54  неоконченное высшее             2   \n",
       "14         0   -1844.956182         56               высшее             0   \n",
       "15         1    -972.364419         26              среднее             1   \n",
       "16         0   -1719.934226         35              среднее             1   \n",
       "17         0   -2369.999720         33               высшее             0   \n",
       "18         0  400281.136913         53              среднее             1   \n",
       "19         0  -10038.818549         48              СРЕДНЕЕ             1   \n",
       "\n",
       "       family_status  family_status_id gender income_type  debt  \\\n",
       "0    женат / замужем                 0      F   сотрудник     0   \n",
       "1    женат / замужем                 0      F   сотрудник     0   \n",
       "2    женат / замужем                 0      M   сотрудник     0   \n",
       "3    женат / замужем                 0      M   сотрудник     0   \n",
       "4   гражданский брак                 1      F   пенсионер     0   \n",
       "5   гражданский брак                 1      M   компаньон     0   \n",
       "6    женат / замужем                 0      F   компаньон     0   \n",
       "7    женат / замужем                 0      M   сотрудник     0   \n",
       "8   гражданский брак                 1      F   сотрудник     0   \n",
       "9    женат / замужем                 0      M   сотрудник     0   \n",
       "10   женат / замужем                 0      M   компаньон     0   \n",
       "11   женат / замужем                 0      F   сотрудник     0   \n",
       "12  гражданский брак                 1      M   пенсионер     0   \n",
       "13   женат / замужем                 0      F   сотрудник     0   \n",
       "14  гражданский брак                 1      F   компаньон     1   \n",
       "15   женат / замужем                 0      F   сотрудник     0   \n",
       "16   женат / замужем                 0      F   сотрудник     0   \n",
       "17  гражданский брак                 1      M   сотрудник     0   \n",
       "18    вдовец / вдова                 2      F   пенсионер     0   \n",
       "19         в разводе                 3      F   сотрудник     0   \n",
       "\n",
       "     total_income                                 purpose  \n",
       "0   253875.639453                           покупка жилья  \n",
       "1   112080.014102                 приобретение автомобиля  \n",
       "2   145885.952297                           покупка жилья  \n",
       "3   267628.550329              дополнительное образование  \n",
       "4   158616.077870                         сыграть свадьбу  \n",
       "5   255763.565419                           покупка жилья  \n",
       "6   240525.971920                       операции с жильем  \n",
       "7   135823.934197                             образование  \n",
       "8    95856.832424                   на проведение свадьбы  \n",
       "9   144425.938277                 покупка жилья для семьи  \n",
       "10  113943.491460                    покупка недвижимости  \n",
       "11   77069.234271       покупка коммерческой недвижимости  \n",
       "12            NaN                         сыграть свадьбу  \n",
       "13  130458.228857                 приобретение автомобиля  \n",
       "14  165127.911772              покупка жилой недвижимости  \n",
       "15  116820.904450  строительство собственной недвижимости  \n",
       "16  289202.704229                            недвижимость  \n",
       "17   90410.586745              строительство недвижимости  \n",
       "18   56823.777243      на покупку подержанного автомобиля  \n",
       "19  242831.107982            на покупку своего автомобиля  "
      ]
     },
     "execution_count": 2,
     "metadata": {},
     "output_type": "execute_result"
    }
   ],
   "source": [
    "data.head(20)"
   ]
  },
  {
   "cell_type": "markdown",
   "id": "ba9ddf01",
   "metadata": {
    "deletable": false,
    "editable": false,
    "id": "1c12e233"
   },
   "source": [
    "**Задание 3. Выведите основную информацию о датафрейме с помощью метода `info()`.**"
   ]
  },
  {
   "cell_type": "code",
   "execution_count": 3,
   "id": "6308db42",
   "metadata": {
    "deletable": false,
    "id": "2b757bca",
    "outputId": "15376089-8dad-46c9-b520-c05248d43158"
   },
   "outputs": [
    {
     "name": "stdout",
     "output_type": "stream",
     "text": [
      "<class 'pandas.core.frame.DataFrame'>\n",
      "RangeIndex: 21525 entries, 0 to 21524\n",
      "Data columns (total 12 columns):\n",
      " #   Column            Non-Null Count  Dtype  \n",
      "---  ------            --------------  -----  \n",
      " 0   children          21525 non-null  int64  \n",
      " 1   days_employed     19351 non-null  float64\n",
      " 2   dob_years         21525 non-null  int64  \n",
      " 3   education         21525 non-null  object \n",
      " 4   education_id      21525 non-null  int64  \n",
      " 5   family_status     21525 non-null  object \n",
      " 6   family_status_id  21525 non-null  int64  \n",
      " 7   gender            21525 non-null  object \n",
      " 8   income_type       21525 non-null  object \n",
      " 9   debt              21525 non-null  int64  \n",
      " 10  total_income      19351 non-null  float64\n",
      " 11  purpose           21525 non-null  object \n",
      "dtypes: float64(2), int64(5), object(5)\n",
      "memory usage: 2.0+ MB\n"
     ]
    }
   ],
   "source": [
    "data.info()"
   ]
  },
  {
   "cell_type": "markdown",
   "id": "7a48c78c",
   "metadata": {
    "deletable": false,
    "editable": false,
    "id": "333ec665"
   },
   "source": [
    "## Предобработка данных"
   ]
  },
  {
   "cell_type": "markdown",
   "id": "8925c5aa",
   "metadata": {
    "deletable": false,
    "editable": false,
    "id": "02d92d53"
   },
   "source": [
    "### Удаление пропусков"
   ]
  },
  {
   "cell_type": "markdown",
   "id": "64357407",
   "metadata": {
    "deletable": false,
    "editable": false,
    "id": "cd84967c"
   },
   "source": [
    "**Задание 4. Выведите количество пропущенных значений для каждого столбца. Используйте комбинацию двух методов.**"
   ]
  },
  {
   "cell_type": "code",
   "execution_count": 4,
   "id": "000f06c6",
   "metadata": {
    "deletable": false,
    "id": "7f9b2309",
    "outputId": "81f4d817-781c-465c-ed15-91ce4446810d"
   },
   "outputs": [
    {
     "data": {
      "text/plain": [
       "children               0\n",
       "days_employed       2174\n",
       "dob_years              0\n",
       "education              0\n",
       "education_id           0\n",
       "family_status          0\n",
       "family_status_id       0\n",
       "gender                 0\n",
       "income_type            0\n",
       "debt                   0\n",
       "total_income        2174\n",
       "purpose                0\n",
       "dtype: int64"
      ]
     },
     "execution_count": 4,
     "metadata": {},
     "output_type": "execute_result"
    }
   ],
   "source": [
    "data.isna().sum()"
   ]
  },
  {
   "cell_type": "markdown",
   "id": "bbef2e2e",
   "metadata": {
    "deletable": false,
    "editable": false,
    "id": "db86e27b"
   },
   "source": [
    "**Задание 5. В двух столбцах есть пропущенные значения. Один из них — `days_employed`. Пропуски в этом столбце вы обработаете на следующем этапе. Другой столбец с пропущенными значениями — `total_income` — хранит данные о доходах. На сумму дохода сильнее всего влияет тип занятости, поэтому заполнить пропуски в этом столбце нужно медианным значением по каждому типу из столбца `income_type`. Например, у человека с типом занятости `сотрудник` пропуск в столбце `total_income` должен быть заполнен медианным доходом среди всех записей с тем же типом.**"
   ]
  },
  {
   "cell_type": "code",
   "execution_count": 5,
   "id": "325b9fe6",
   "metadata": {
    "deletable": false,
    "id": "42006a93"
   },
   "outputs": [],
   "source": [
    "for t in data['income_type'].unique():\n",
    "    data.loc[(data['income_type'] == t) & (data['total_income'].isna()), 'total_income'] = \\\n",
    "    data.loc[(data['income_type'] == t), 'total_income'].median()"
   ]
  },
  {
   "cell_type": "markdown",
   "id": "3f6538a3",
   "metadata": {
    "deletable": false,
    "editable": false,
    "id": "89da5ece"
   },
   "source": [
    "### Обработка аномальных значений"
   ]
  },
  {
   "cell_type": "markdown",
   "id": "1a901260",
   "metadata": {
    "deletable": false,
    "editable": false,
    "id": "57964554"
   },
   "source": [
    "**Задание 6. В данных могут встречаться артефакты (аномалии) — значения, которые не отражают действительность и появились по какой-то ошибке. таким артефактом будет отрицательное количество дней трудового стажа в столбце `days_employed`. Для реальных данных это нормально. Обработайте значения в этом столбце: замените все отрицательные значения положительными с помощью метода `abs()`.**"
   ]
  },
  {
   "cell_type": "code",
   "execution_count": 6,
   "id": "f76a0212",
   "metadata": {
    "deletable": false,
    "id": "f6f055bf"
   },
   "outputs": [],
   "source": [
    "data['days_employed'] = data['days_employed'].abs()"
   ]
  },
  {
   "cell_type": "markdown",
   "id": "1e05c6f4",
   "metadata": {
    "deletable": false,
    "editable": false,
    "id": "6107dd2f"
   },
   "source": [
    "**Задание 7. Для каждого типа занятости выведите медианное значение трудового стажа `days_employed` в днях.**"
   ]
  },
  {
   "cell_type": "code",
   "execution_count": 7,
   "id": "411be29d",
   "metadata": {
    "deletable": false,
    "id": "85a5faf6",
    "outputId": "801ef80e-522b-4668-f34e-565af7432bcf"
   },
   "outputs": [
    {
     "data": {
      "text/plain": [
       "income_type\n",
       "безработный        366413.652744\n",
       "в декрете            3296.759962\n",
       "госслужащий          2689.368353\n",
       "компаньон            1547.382223\n",
       "пенсионер          365213.306266\n",
       "предприниматель       520.848083\n",
       "сотрудник            1574.202821\n",
       "студент               578.751554\n",
       "Name: days_employed, dtype: float64"
      ]
     },
     "execution_count": 7,
     "metadata": {},
     "output_type": "execute_result"
    }
   ],
   "source": [
    "data.groupby('income_type')['days_employed'].agg('median')"
   ]
  },
  {
   "cell_type": "markdown",
   "id": "a8677694",
   "metadata": {
    "deletable": false,
    "editable": false,
    "id": "38d1a030"
   },
   "source": [
    "У двух типов (безработные и пенсионеры) получатся аномально большие значения. Исправить такие значения сложно, поэтому оставьте их как есть. Тем более этот столбец не понадобится вам для исследования."
   ]
  },
  {
   "cell_type": "markdown",
   "id": "66f03998",
   "metadata": {
    "deletable": false,
    "editable": false,
    "id": "d8a9f147"
   },
   "source": [
    "**Задание 8. Выведите перечень уникальных значений столбца `children`.**"
   ]
  },
  {
   "cell_type": "code",
   "execution_count": 8,
   "id": "07617132",
   "metadata": {
    "deletable": false,
    "id": "ef5056eb",
    "outputId": "6975b15c-7f95-4697-d16d-a0c79b657b03"
   },
   "outputs": [
    {
     "data": {
      "text/plain": [
       "array([ 1,  0,  3,  2, -1,  4, 20,  5])"
      ]
     },
     "execution_count": 8,
     "metadata": {},
     "output_type": "execute_result"
    }
   ],
   "source": [
    "data['children'].unique()"
   ]
  },
  {
   "cell_type": "markdown",
   "id": "3cb40617",
   "metadata": {
    "deletable": false,
    "editable": false,
    "id": "40b9ebf2"
   },
   "source": [
    "**Задание 9. В столбце `children` есть два аномальных значения. Удалите строки, в которых встречаются такие аномальные значения из датафрейма `data`.**"
   ]
  },
  {
   "cell_type": "code",
   "execution_count": 9,
   "id": "3146f7bf",
   "metadata": {
    "deletable": false,
    "id": "3ff9801d"
   },
   "outputs": [],
   "source": [
    "data = data[(data['children'] != -1) & (data['children'] != 20)]"
   ]
  },
  {
   "cell_type": "markdown",
   "id": "1184235c",
   "metadata": {
    "deletable": false,
    "editable": false,
    "id": "bbc4d0ce"
   },
   "source": [
    "**Задание 10. Ещё раз выведите перечень уникальных значений столбца `children`, чтобы убедиться, что артефакты удалены.**"
   ]
  },
  {
   "cell_type": "code",
   "execution_count": 10,
   "id": "593349e0",
   "metadata": {
    "deletable": false,
    "id": "ad4fa8b7",
    "outputId": "b2097101-d49d-44d9-901b-32a65c9463d1"
   },
   "outputs": [
    {
     "data": {
      "text/plain": [
       "array([1, 0, 3, 2, 4, 5])"
      ]
     },
     "execution_count": 10,
     "metadata": {},
     "output_type": "execute_result"
    }
   ],
   "source": [
    "data['children'].unique()"
   ]
  },
  {
   "cell_type": "markdown",
   "id": "7523f4c4",
   "metadata": {
    "deletable": false,
    "editable": false,
    "id": "75440b63"
   },
   "source": [
    "### Удаление пропусков (продолжение)"
   ]
  },
  {
   "cell_type": "markdown",
   "id": "e6190ea2",
   "metadata": {
    "deletable": false,
    "editable": false,
    "id": "f4ea573f"
   },
   "source": [
    "**Задание 11. Заполните пропуски в столбце `days_employed` медианными значениями по каждого типа занятости `income_type`.**"
   ]
  },
  {
   "cell_type": "code",
   "execution_count": 11,
   "id": "8eda5426",
   "metadata": {
    "deletable": false,
    "id": "af6b1a7e"
   },
   "outputs": [],
   "source": [
    "for t in data['income_type'].unique():\n",
    "    data.loc[(data['income_type'] == t) & (data['days_employed'].isna()), 'days_employed'] = \\\n",
    "    data.loc[(data['income_type'] == t), 'days_employed'].median()"
   ]
  },
  {
   "cell_type": "markdown",
   "id": "5b39646c",
   "metadata": {
    "deletable": false,
    "editable": false,
    "id": "2753f40d"
   },
   "source": [
    "**Задание 12. Убедитесь, что все пропуски заполнены. Проверьте себя и ещё раз выведите количество пропущенных значений для каждого столбца с помощью двух методов.**"
   ]
  },
  {
   "cell_type": "code",
   "execution_count": 12,
   "id": "e6e6848e",
   "metadata": {
    "deletable": false,
    "id": "55f78bc2",
    "outputId": "8da1e4e1-358e-4e87-98c9-f261bce0a7b2"
   },
   "outputs": [
    {
     "data": {
      "text/plain": [
       "children            0\n",
       "days_employed       0\n",
       "dob_years           0\n",
       "education           0\n",
       "education_id        0\n",
       "family_status       0\n",
       "family_status_id    0\n",
       "gender              0\n",
       "income_type         0\n",
       "debt                0\n",
       "total_income        0\n",
       "purpose             0\n",
       "dtype: int64"
      ]
     },
     "execution_count": 12,
     "metadata": {},
     "output_type": "execute_result"
    }
   ],
   "source": [
    "data.isna().sum()"
   ]
  },
  {
   "cell_type": "markdown",
   "id": "64fcd9e3",
   "metadata": {
    "deletable": false,
    "editable": false,
    "id": "ddc81e43"
   },
   "source": [
    "### Изменение типов данных"
   ]
  },
  {
   "cell_type": "markdown",
   "id": "b0f6c329",
   "metadata": {
    "deletable": false,
    "editable": false,
    "id": "42d19d24"
   },
   "source": [
    "**Задание 13. Замените вещественный тип данных в столбце `total_income` на целочисленный с помощью метода `astype()`.**"
   ]
  },
  {
   "cell_type": "code",
   "execution_count": 13,
   "id": "8f1a6a6f",
   "metadata": {
    "deletable": false,
    "id": "920b65ad"
   },
   "outputs": [],
   "source": [
    "data['total_income'] = data['total_income'].astype(int)"
   ]
  },
  {
   "cell_type": "markdown",
   "id": "ca592669",
   "metadata": {
    "deletable": false,
    "editable": false,
    "id": "80c420ba"
   },
   "source": [
    "### Обработка дубликатов"
   ]
  },
  {
   "cell_type": "markdown",
   "id": "4b4e2d41",
   "metadata": {
    "deletable": false,
    "editable": false
   },
   "source": [
    "**Задание 14. Обработайте неявные дубликаты в столбце `education`. В этом столбце есть одни и те же значения, но записанные по-разному: с использованием заглавных и строчных букв. Приведите их к нижнему регистру. Проверьте остальные столбцы.**"
   ]
  },
  {
   "cell_type": "code",
   "execution_count": 14,
   "id": "458adec7",
   "metadata": {
    "deletable": false
   },
   "outputs": [],
   "source": [
    "data['education'] = data['education'].str.lower()"
   ]
  },
  {
   "cell_type": "markdown",
   "id": "aeedb0a6",
   "metadata": {
    "deletable": false,
    "editable": false,
    "id": "dc587695"
   },
   "source": [
    "**Задание 15. Выведите на экран количество строк-дубликатов в данных. Если такие строки присутствуют, удалите их.**"
   ]
  },
  {
   "cell_type": "code",
   "execution_count": 15,
   "id": "73fe7c50",
   "metadata": {
    "deletable": false,
    "id": "3ee445e4",
    "outputId": "9684deba-1934-42d1-99e1-cda61740f822"
   },
   "outputs": [
    {
     "data": {
      "text/plain": [
       "71"
      ]
     },
     "execution_count": 15,
     "metadata": {},
     "output_type": "execute_result"
    }
   ],
   "source": [
    "data.duplicated().sum()"
   ]
  },
  {
   "cell_type": "code",
   "execution_count": 16,
   "id": "9b90aa9b",
   "metadata": {
    "deletable": false,
    "id": "8575fe05"
   },
   "outputs": [],
   "source": [
    "data = data.drop_duplicates()"
   ]
  },
  {
   "cell_type": "markdown",
   "id": "cf0788c2",
   "metadata": {
    "deletable": false,
    "editable": false,
    "id": "9904cf55"
   },
   "source": [
    "### Категоризация данных"
   ]
  },
  {
   "cell_type": "markdown",
   "id": "50a82d2a",
   "metadata": {
    "deletable": false,
    "editable": false,
    "id": "72fcc8a2"
   },
   "source": [
    "**Задание 16. На основании диапазонов, указанных ниже, создайте в датафрейме `data` столбец `total_income_category` с категориями:**\n",
    "\n",
    "- 0–30000 — `'E'`;\n",
    "- 30001–50000 — `'D'`;\n",
    "- 50001–200000 — `'C'`;\n",
    "- 200001–1000000 — `'B'`;\n",
    "- 1000001 и выше — `'A'`.\n",
    "\n",
    "\n",
    "**Например, кредитополучателю с доходом 25000 нужно назначить категорию `'E'`, а клиенту, получающему 235000, — `'B'`. Используйте собственную функцию с именем `categorize_income()` и метод `apply()`.**"
   ]
  },
  {
   "cell_type": "code",
   "execution_count": 17,
   "id": "165d887c",
   "metadata": {
    "deletable": false,
    "id": "e1771346"
   },
   "outputs": [],
   "source": [
    "def categorize_income(income):\n",
    "    try:\n",
    "        if 0 <= income <= 30000:\n",
    "            return 'E'\n",
    "        elif 30001 <= income <= 50000:\n",
    "            return 'D'\n",
    "        elif 50001 <= income <= 200000:\n",
    "            return 'C'\n",
    "        elif 200001 <= income <= 1000000:\n",
    "            return 'B'\n",
    "        elif income >= 1000001:\n",
    "            return 'A'\n",
    "    except:\n",
    "        pass"
   ]
  },
  {
   "cell_type": "code",
   "execution_count": 18,
   "id": "c42d5db1",
   "metadata": {
    "deletable": false,
    "id": "d5f3586d"
   },
   "outputs": [],
   "source": [
    "data['total_income_category'] = data['total_income'].apply(categorize_income)"
   ]
  },
  {
   "cell_type": "markdown",
   "id": "fa00c2b5",
   "metadata": {
    "deletable": false,
    "editable": false,
    "id": "dde49b5c"
   },
   "source": [
    "**Задание 17. Выведите на экран перечень уникальных целей взятия кредита из столбца `purpose`.**"
   ]
  },
  {
   "cell_type": "code",
   "execution_count": 19,
   "id": "519ffa6a",
   "metadata": {
    "deletable": false,
    "id": "f67ce9b3",
    "outputId": "673c12d9-7d7e-4ae0-9812-c622c89dd244"
   },
   "outputs": [
    {
     "data": {
      "text/plain": [
       "array(['покупка жилья', 'приобретение автомобиля',\n",
       "       'дополнительное образование', 'сыграть свадьбу',\n",
       "       'операции с жильем', 'образование', 'на проведение свадьбы',\n",
       "       'покупка жилья для семьи', 'покупка недвижимости',\n",
       "       'покупка коммерческой недвижимости', 'покупка жилой недвижимости',\n",
       "       'строительство собственной недвижимости', 'недвижимость',\n",
       "       'строительство недвижимости', 'на покупку подержанного автомобиля',\n",
       "       'на покупку своего автомобиля',\n",
       "       'операции с коммерческой недвижимостью',\n",
       "       'строительство жилой недвижимости', 'жилье',\n",
       "       'операции со своей недвижимостью', 'автомобили',\n",
       "       'заняться образованием', 'сделка с подержанным автомобилем',\n",
       "       'получение образования', 'автомобиль', 'свадьба',\n",
       "       'получение дополнительного образования', 'покупка своего жилья',\n",
       "       'операции с недвижимостью', 'получение высшего образования',\n",
       "       'свой автомобиль', 'сделка с автомобилем',\n",
       "       'профильное образование', 'высшее образование',\n",
       "       'покупка жилья для сдачи', 'на покупку автомобиля', 'ремонт жилью',\n",
       "       'заняться высшим образованием'], dtype=object)"
      ]
     },
     "execution_count": 19,
     "metadata": {},
     "output_type": "execute_result"
    }
   ],
   "source": [
    "data['purpose'].unique()"
   ]
  },
  {
   "cell_type": "markdown",
   "id": "13bb7a73",
   "metadata": {
    "deletable": false,
    "editable": false,
    "id": "85d0aef0"
   },
   "source": [
    "**Задание 18. Создайте функцию, которая на основании данных из столбца `purpose` сформирует новый столбец `purpose_category`, в который войдут следующие категории:**\n",
    "\n",
    "- `'операции с автомобилем'`,\n",
    "- `'операции с недвижимостью'`,\n",
    "- `'проведение свадьбы'`,\n",
    "- `'получение образования'`.\n",
    "\n",
    "**Например, если в столбце `purpose` находится подстрока `'на покупку автомобиля'`, то в столбце `purpose_category` должна появиться строка `'операции с автомобилем'`.**\n",
    "\n",
    "**Используйте собственную функцию с именем `categorize_purpose()` и метод `apply()`. Изучите данные в столбце `purpose` и определите, какие подстроки помогут вам правильно определить категорию.**"
   ]
  },
  {
   "cell_type": "code",
   "execution_count": 20,
   "id": "cc32b356",
   "metadata": {
    "deletable": false,
    "id": "e149fab4"
   },
   "outputs": [],
   "source": [
    "def categorize_purpose(row):\n",
    "    try:\n",
    "        if 'автом' in row:\n",
    "            return 'операции с автомобилем'\n",
    "        elif 'жил' in row or 'недвиж' in row:\n",
    "            return 'операции с недвижимостью'\n",
    "        elif 'свад' in row:\n",
    "            return 'проведение свадьбы'\n",
    "        elif 'образов' in row:\n",
    "            return 'получение образования'\n",
    "    except:\n",
    "        return 'нет категории'"
   ]
  },
  {
   "cell_type": "code",
   "execution_count": 21,
   "id": "ea9bd932",
   "metadata": {
    "deletable": false,
    "id": "bf36e69b"
   },
   "outputs": [],
   "source": [
    "data['purpose_category'] = data['purpose'].apply(categorize_purpose)"
   ]
  },
  {
   "cell_type": "code",
   "execution_count": 22,
   "id": "f8ae15ec",
   "metadata": {
    "deletable": false,
    "id": "2cacfc4a"
   },
   "outputs": [
    {
     "name": "stdout",
     "output_type": "stream",
     "text": [
      "                  Количество заемщиков  Количество должников  Доля невозврата\n",
      "Дети отсутствуют                 14091                  1063         0.075438\n",
      "Один ребенок                      4808                   444         0.092346\n",
      "Двое детей                        2052                   194         0.094542\n",
      "Трое детей                         330                    27         0.081818\n",
      "Четверо детей                       41                     4         0.097561\n",
      "Пятеро детей                         9                     0         0.000000\n"
     ]
    }
   ],
   "source": [
    "#group_credit = data.groupby('children')['debt'].count()# Разбиваем всех заемщиков по категориям согласно количеству детей\n",
    "#print(group_credit)# Выведем данные группы на экран \n",
    "#group_credit_in_time=data.groupby('children')['debt'].sum()# Посчитаем по категориям сколько человек суммарно вернули кредит в срок\n",
    "#print(group_credit_in_time)# Выведем данные группы на экран\n",
    "#credit_conversion_in_time = group_credit_in_time/group_credit# Рассчитаем конверсию вернувших кредит в срок по каждой группе\n",
    "#print(credit_conversion_in_time)# Ваш код будет здесь. Вы можете создавать новые ячейки.\n",
    "#Создадим сводную в таблицу, в которой в качестве индекса будет выступать количество детей, а в столбцах занесены соответственно значения общего количества заемщиков, количества должников и доли невозврата,разбитые по группам.\n",
    "grouped_by_children = data.pivot_table(index='children',values='debt',aggfunc=['count','sum','mean'])\n",
    "#Чтобы повысить наглядность таблицы переименуем столбцы\n",
    "grouped_by_children.columns = ['Количество заемщиков', 'Количество должников', 'Доля невозврата']\n",
    "#Чтобы повысить информативность таблицы переименуем также и строки таблицы\n",
    "grouped_by_children.index = ['Дети отсутствуют', 'Один ребенок', 'Двое детей', 'Трое детей', 'Четверо детей', 'Пятеро детей']\n",
    "#Выведем нашу таблицу на экран\n",
    "print(grouped_by_children)"
   ]
  },
  {
   "cell_type": "markdown",
   "id": "b68e80cd",
   "metadata": {
    "deletable": false,
    "editable": false,
    "id": "09b242bf"
   },
   "source": [
    "### Шаг 3. Исследуйте данные и ответьте на вопросы"
   ]
  },
  {
   "cell_type": "markdown",
   "id": "f39164cb",
   "metadata": {
    "deletable": false,
    "editable": false,
    "id": "c5d66278"
   },
   "source": [
    "#### 3.1 Есть ли зависимость между количеством детей и возвратом кредита в срок?"
   ]
  },
  {
   "cell_type": "markdown",
   "id": "8540c69e",
   "metadata": {
    "deletable": false,
    "id": "3a6b99ec"
   },
   "source": [
    "**Вывод:** В результате исследования мы выяснили следующее: 1)Доля невозврата среди заемщиков, у которых нет детей, составляет 7,54%, что является наименьшим значением среди сравниваемых категорий заемщиков. Тем самым делает эту категорию самой надежной. 2)Количество должников увеличивается с ростом количества детей. Среди заемщиков, у которых один ребенок, процент должников составляет 9.23%, тогда как у заемщиков, которых двое детей, процент невозврата достигает значения 9.45%. 3)У заемщиков с тремя детьми доля невозврата составляет 8.18%, что несколько противоречит выявленной раннее зависимости доля невозврата по кредитам от количества детей. Однако данная аномалия могла возникнуть по причине небольшой по размеру выборки. Количество заемщиков составляет всего 330 человек, тогда как количестов замщиков без детей,с одним ребенком и с двумя составляет 14091, 4808 и 2052 человек соответственно. Тем не менее доля невозврата больше процентного соотношения должников среди заемщиков, у которых нет детей, на 0.64% 4)У заемщиков с четырьмя детьми доля невозврата также показывает зависимость роста числа должников при увеличении количества детей , и составляет - 9.76%. Однако к этим данным стоит относиться с осторожность, так как величина выборки сравнительно невелика и составляет всего 41 человек. 5)В группе заемщиков, у которых пять детей, данных недостаточно для анализа. Величина выборки составляет всего 9 человек при доле невозврата в 0%. На основании этих данных можно сделать ошибочный вывод о том, что самыми надежными клиентами банка являются многодетные заемщики с количеством детей равным пяти. Таким образом исключаем эту группу из нашего анализа."
   ]
  },
  {
   "cell_type": "markdown",
   "id": "cb740b8b",
   "metadata": {
    "deletable": false,
    "editable": false,
    "id": "97be82ca"
   },
   "source": [
    "#### 3.2 Есть ли зависимость между семейным положением и возвратом кредита в срок?"
   ]
  },
  {
   "cell_type": "code",
   "execution_count": 23,
   "id": "88c15be1",
   "metadata": {
    "deletable": false,
    "id": "dc3f7ee8"
   },
   "outputs": [
    {
     "name": "stdout",
     "output_type": "stream",
     "text": [
      "                       Количество заемщиков  Количество должников  \\\n",
      "family_status                                                       \n",
      "Не женат / не замужем                  2796                   273   \n",
      "в разводе                              1189                    84   \n",
      "вдовец / вдова                          951                    63   \n",
      "гражданский брак                       4134                   385   \n",
      "женат / замужем                       12261                   927   \n",
      "\n",
      "                       Доля невозврата  \n",
      "family_status                           \n",
      "Не женат / не замужем         0.097639  \n",
      "в разводе                     0.070648  \n",
      "вдовец / вдова                0.066246  \n",
      "гражданский брак              0.093130  \n",
      "женат / замужем               0.075606  \n"
     ]
    }
   ],
   "source": [
    "#family_status_credit = data.groupby('family_status')['debt'].count()# Разбиваем всех заемщиков по категориям согласно семейному статусу\n",
    "#print(family_status_credit)# Выведем данные группы на экран \n",
    "#family_status_credit_in_time=data.groupby('family_status')['debt'].sum()# Посчитаем по категориям сколько человек суммарно вернули кредит в срок\n",
    "#print(family_status_credit_in_time)# Выведем данные группы на экран\n",
    "#family_status_credit_conversion_in_time = family_status_credit_in_time/family_status_credit# Рассчитаем конверсию вернувших кредит в срок по каждой группе\n",
    "#print(family_status_credit_conversion_in_time)# Ваш код будет здесь. Вы можете создавать новые ячейки.\n",
    "#Создадим сводную в таблицу, в которой в качестве индекса будет выступать семейный статус заемщика,а в столбцах занесены соответственно значения общего количества заемщиков, количества должников и доли невозврата,разбитые по группам.\n",
    "grouped_by_family_status = data.pivot_table(index='family_status',values='debt',aggfunc=['count','sum','mean'])\n",
    "#Чтобы повысить наглядность таблицы переименуем столбцы\n",
    "grouped_by_family_status.columns = ['Количество заемщиков', 'Количество должников', 'Доля невозврата']\n",
    "#Выведем нашу таблицу на экран\n",
    "print(grouped_by_family_status)"
   ]
  },
  {
   "cell_type": "markdown",
   "id": "89088940",
   "metadata": {
    "deletable": false,
    "id": "1cef7837"
   },
   "source": [
    "**Вывод:** По результатам исследования было установлено:\n",
    "        1)Самыми надежными являются заемщики в семейному статусе \"вдовец / вдова\". \n",
    "        Доля должников составляет 6.62% от общего числа заемщиков, имеющих данный статус.\n",
    "        2)Самой неплатежеспособной категорией являются клиенты со статусом \"Не женат / не замужем\".\n",
    "        Их доля невозврата составляет 9.76%.\n",
    "        3)Заемщики, состоящие в гражданском браке, также показали себя как ненадежные заемщики. Доля невозврата среди них - 9.31%.\n",
    "        4)Доля невозврата среди клиентов с семейными стутусами \"в разводе\" и \"женат / замужем\" составляет соответственно 7.06% и 7.56%.\n",
    "        Таким образом данные категории клиентов также можно отнести к группе надежных заемщиков.\n",
    "       "
   ]
  },
  {
   "cell_type": "markdown",
   "id": "b44b5b3a",
   "metadata": {
    "deletable": false,
    "editable": false,
    "id": "1e8b2fca"
   },
   "source": [
    "#### 3.3 Есть ли зависимость между уровнем дохода и возвратом кредита в срок?"
   ]
  },
  {
   "cell_type": "code",
   "execution_count": 30,
   "id": "35621f9a",
   "metadata": {
    "deletable": false,
    "id": "cd7e3720"
   },
   "outputs": [
    {
     "name": "stdout",
     "output_type": "stream",
     "text": [
      "                                     Количество заемщиков  \\\n",
      "Доход более 1 млн.руб.                                 25   \n",
      "Доход от 200 тыс.руб. до 1 млн.руб.                  5014   \n",
      "Доход от 50 до 200 тыс.руб.                         15921   \n",
      "Доход от 30 до 50 тыс.руб.                            349   \n",
      "Доход до 30 тыс.руб                                    22   \n",
      "\n",
      "                                     Количество должников  Доля невозврата  \n",
      "Доход более 1 млн.руб.                                  2         0.080000  \n",
      "Доход от 200 тыс.руб. до 1 млн.руб.                   354         0.070602  \n",
      "Доход от 50 до 200 тыс.руб.                          1353         0.084982  \n",
      "Доход от 30 до 50 тыс.руб.                             21         0.060172  \n",
      "Доход до 30 тыс.руб                                     2         0.090909  \n"
     ]
    }
   ],
   "source": [
    "#income_credit = data.groupby('total_income_category')['debt'].count()# Разбиваем всех заемщиков по категориям согласно уровню дохода\n",
    "#print(income_credit)# Выведем данные группы на экран \n",
    "#income_credit_in_time=data.groupby('total_income_category')['debt'].sum()# Посчитаем по категориям сколько человек суммарно вернули кредит в срок\n",
    "#print(income_credit_in_time)# Выведем данные группы на экран\n",
    "#income_conversion_in_time = income_credit_in_time/income_credit# Рассчитаем конверсию вернувших кредит в срок по каждой группе\n",
    "#print(income_conversion_in_time)\n",
    "# Ваш код будет здесь. Вы можете создавать новые ячейки.\n",
    "#Создадим сводную в таблицу, в которой в качестве индекса будет выступать уровень дохода заемщика,а в столбцах занесены соответственно значения общего количества заемщиков, количества должников и доли невозврата,разбитые по группам.\n",
    "grouped_by_total_income_category = data.pivot_table(index='total_income_category',values='debt',aggfunc=['count','sum','mean'])\n",
    "#Чтобы повысить наглядность таблицы переименуем столбцы\n",
    "grouped_by_total_income_category.columns = ['Количество заемщиков', 'Количество должников', 'Доля невозврата']\n",
    "#Чтобы повысить информативность таблицы переименуем также и строки таблицы\n",
    "grouped_by_total_income_category.index = ['Доход более 1 млн.руб.', 'Доход от 200 тыс.руб. до 1 млн.руб.',\\\n",
    "                             'Доход от 50 до 200 тыс.руб.', 'Доход от 30 до 50 тыс.руб.', 'Доход до 30 тыс.руб']\n",
    "#Выведем нашу таблицу на экран\n",
    "print(grouped_by_total_income_category)"
   ]
  },
  {
   "cell_type": "markdown",
   "id": "ac56e207",
   "metadata": {
    "deletable": false,
    "id": "e8593def"
   },
   "source": [
    "**Вывод:** В результате исследования мы выяснили:\n",
    "    1)Самыми надежными заемщиками являются клиенты с уровнем дохода от 30 до 50 тыс.рублей. \n",
    "    Доля должников среди них составляет 6.02%.\n",
    "    2)На втором месте - заемщики с уровнем дохода от 200 тыс.руб. до 1 млн.рублей. \n",
    "    Доля невозврата среди этой категории клиентов составляет 7.06%.\n",
    "    3)Третьими по очереди надежных заемщиков идут клиенты с доходом от 1 млн.рублей.\n",
    "    Из 25 человек только двое не вернули кредит в срок. Доля должников составляет 8.00% от общего числа клиентов данной категории.\n",
    "    4)Самыми ненадежными оказались клиенты с уровнем дохода от 50 до 200 тыс.руб и с доходом от 30 тыс.рублей.\n",
    "    Их доля невозврата составила 8.50% и 9.09% соответсвенно."
   ]
  },
  {
   "cell_type": "markdown",
   "id": "d6dcd4e2",
   "metadata": {},
   "source": [
    "Расмотрим подробнее группу заемщиков с доходами менее 30 тыс.рублей:"
   ]
  },
  {
   "cell_type": "code",
   "execution_count": 68,
   "id": "028bdb30",
   "metadata": {},
   "outputs": [
    {
     "name": "stdout",
     "output_type": "stream",
     "text": [
      "  Социальный статус  Ежемесячный доход              Цель кредита\n",
      "0         пенсионер              29154  операции с недвижимостью\n",
      "1         пенсионер              20667  операции с недвижимостью\n"
     ]
    }
   ],
   "source": [
    "#Отберем нужные записи из массива данных. Отберем должников с ежемесячным доходом менее 30 тыс.рублей\n",
    "grouped_by_total_under_30 = data.loc[(data['total_income_category']=='E') & (data['debt']==1)]\n",
    "#Создадим сводную в таблицу, в которой в качестве индекса будет выступать социальный статус заемщика,а в столбцах занесены соответственно значения общего количества заемщиков, количества должников и доли невозврата,разбитые по группам.\n",
    "grouped_by_total_under_30 = grouped_by_total_under_30[['income_type','total_income','purpose_category']]\n",
    "#Чтобы повысить наглядность таблицы переименуем столбцы\n",
    "grouped_by_total_under_30.columns = ['Социальный статус', 'Ежемесячный доход', 'Цель кредита']\n",
    "#Выведем нашу таблицу на экран\n",
    "print(grouped_by_total_under_30.reset_index(drop=True))"
   ]
  },
  {
   "cell_type": "markdown",
   "id": "9c90da6c",
   "metadata": {},
   "source": [
    "Оба должника оказались пенсионерами c ежемесячные доходами 29154 руб. и 20667 руб. соответственно. Цель кредита - операции с недвижимостью. Выдавать кредит на дорогостоящие операции с недвижимостью было крайне рискованным решением, учитывая уровень дохода заемщиков."
   ]
  },
  {
   "cell_type": "markdown",
   "id": "c9e5150c",
   "metadata": {
    "deletable": false,
    "editable": false,
    "id": "99ecbd1f"
   },
   "source": [
    "#### 3.4 Как разные цели кредита влияют на его возврат в срок?"
   ]
  },
  {
   "cell_type": "code",
   "execution_count": 25,
   "id": "15afb4a4",
   "metadata": {
    "deletable": false,
    "id": "2b687290"
   },
   "outputs": [
    {
     "name": "stdout",
     "output_type": "stream",
     "text": [
      "                          Количество заемщиков  Количество должников  \\\n",
      "purpose_category                                                       \n",
      "операции с автомобилем                    4279                   400   \n",
      "операции с недвижимостью                 10751                   780   \n",
      "получение образования                     3988                   369   \n",
      "проведение свадьбы                        2313                   183   \n",
      "\n",
      "                          Доля невозврата  \n",
      "purpose_category                           \n",
      "операции с автомобилем           0.093480  \n",
      "операции с недвижимостью         0.072551  \n",
      "получение образования            0.092528  \n",
      "проведение свадьбы               0.079118  \n"
     ]
    }
   ],
   "source": [
    "#purpose_credit = data.groupby('purpose_category')['debt'].count()# Разбиваем всех заемщиков по категориям согласно цели кредитования\n",
    "#print(purpose_credit)# Выведем данные группы на экран \n",
    "#purpose_credit_in_time=data.groupby('purpose_category')['debt'].sum()# Посчитаем по категориям сколько человек суммарно вернули кредит в срок\n",
    "#print(purpose_credit_in_time)# Выведем данные группы на экран\n",
    "#purpose_conversion_in_time = purpose_credit_in_time/purpose_credit# Рассчитаем конверсию вернувших кредит в срок по каждой группе\n",
    "#print(purpose_conversion_in_time)# Ваш код будет здесь. Вы можете создавать новые ячейки.\n",
    "#Создадим сводную в таблицу, в которой в качестве индекса будет выступать цели кредитования заемщика,а в столбцах занесены соответственно значения общего количества заемщиков, количества должников и доли невозврата,разбитые по группам.\n",
    "grouped_by_purpose_category = data.pivot_table(index='purpose_category',values='debt',aggfunc=['count','sum','mean'])\n",
    "#Чтобы повысить наглядность таблицы переименуем столбцы\n",
    "grouped_by_purpose_category.columns = ['Количество заемщиков', 'Количество должников', 'Доля невозврата']\n",
    "#Выведем нашу таблицу на экран\n",
    "print(grouped_by_purpose_category)\n"
   ]
  },
  {
   "cell_type": "markdown",
   "id": "37b72b29",
   "metadata": {
    "deletable": false,
    "id": "b4bb2ce6"
   },
   "source": [
    "**Вывод:** В результате исследования мы выяснили:\n",
    "    1) Клиенты берущие кредит на операции с недвижимостью чаще всего выплачивают кредит в срок. \n",
    "    Лишь 7.26% заемщики не вернули кредит в срок.\n",
    "    2) Заемщики берущие кредит на проведение свадьбы также являются надежными клиентами банка.\n",
    "    Процент невозврата по таким кредитам составляет 7.91%.\n",
    "    3) Самыми ненадежными клиентами оказались те, которые взяли кредиты на получение образования и операции с автомобилем.\n",
    "    Процент невозврата по таким кредитам составил 9.25% и 9.35%, что делает выдачу кредитов на эти цели не такой привлекательной для банка.\n",
    "    "
   ]
  },
  {
   "cell_type": "markdown",
   "id": "eac2d9a0",
   "metadata": {
    "deletable": false,
    "editable": false,
    "id": "09c3ac4c"
   },
   "source": [
    "#### 3.5 Приведите возможные причины появления пропусков в исходных данных."
   ]
  },
  {
   "cell_type": "markdown",
   "id": "8999ccde",
   "metadata": {
    "deletable": false,
    "id": "9da2ceda"
   },
   "source": [
    "*Ответ:* 1)Среди категории \"Безработные\" наверняка есть те, кто ни одного дня не работал. Поэтому графа стаж('days_employed') не была заполнена\n",
    "2)Среди категории \"Пенсионеры\" вероятно есть те, кто по случайности не указал уровень дохода, не считая пенсию своим доходом\n",
    "3)Возможно категории \"Пенсионеры\" было сложно посчитать свой стаж в днях. Нужно редактировать форму таким образом, чтобы вводя стаж в годах - в таблицу заносились данные в днях.\n",
    "4)Отсутствие желание или возможностей у заемщиков документально подтвердить информацию о доходе и стаже."
   ]
  },
  {
   "cell_type": "markdown",
   "id": "f26df36f",
   "metadata": {
    "deletable": false,
    "editable": false,
    "id": "7b0487d6"
   },
   "source": [
    "#### 3.6 Объясните, почему заполнить пропуски медианным значением — лучшее решение для количественных переменных."
   ]
  },
  {
   "cell_type": "markdown",
   "id": "bcc22499",
   "metadata": {
    "deletable": false,
    "id": "7ecf2b8e"
   },
   "source": [
    "*Ответ:* Медиана корректно характеризует данные, когда некоторые значения сильно выделяются среди большинства. \n",
    "    Среднее арифметическое значение более устойчиво к неоднородной по значениям выборке, когда большая часть элементов расбросаны по числовому лучу."
   ]
  },
  {
   "cell_type": "markdown",
   "id": "96886df4",
   "metadata": {
    "deletable": false,
    "editable": false,
    "id": "6db5255a"
   },
   "source": [
    "### Шаг 4: общий вывод."
   ]
  },
  {
   "cell_type": "markdown",
   "id": "b95d4521",
   "metadata": {
    "deletable": false,
    "id": "bad65432"
   },
   "source": [
    "Напишите ваш общий вывод.\n",
    "В результате исследования мы можем сделать общий вывод:\n",
    "    1)Самыми надежными заемщиками являются клиенты не имеющие детей. \n",
    "    С увеличением количества детей возрастает вероятность невозврата кредита в срок.\n",
    "    2)Рассматривая группы разбитые по семейному статусу, можно прийти к выводу о том,\n",
    "    что самыми надежными плательщиками являются клиенты категории \"вдовец / вдова\".\n",
    "    Менее надежными,\n",
    "    но тем не менее с относительно небольшим процентом невозврата в срок являются категории \"В разводе\" и \"Женат / Замужем\".\n",
    "    Чаще остальных просрочили выплату по кредиту заемщики состоящие в гражданском браке и клиенты категории \"Не женат / не замужем\".\n",
    "    3)Если рассматривать заемщиков, разбивая их на группы по ежемесячному доходу,то можно прийти к выводу,\n",
    "    что самыми ненадежными клиентами являются те, чей доход не превышает 30 тыс.рублей, а также те,\n",
    "    чей доход составляет от 50 до 200 тыс.руб\n",
    "    Наименьший процент невыплаты в срок имеют клиенты с уровнем дохода от 30 до 50 тыс.руб.\n",
    "    Следом по надежности идут заемщики с доходом от 200 тыс.руб. до 1 млн.руб и с доходом более 1 млн.рублей.\n",
    "    4) Клиенты берущие кредит на операции с недвижимостью и проведение свадьбы чаще всего выплачивают кредит в срок.\n",
    "    Самыми ненадежными заемщиками оказались те, которые взяли кредиты на получение образования и операции с автомобилем. "
   ]
  }
 ],
 "metadata": {
  "ExecuteTimeLog": [
   {
    "duration": 902,
    "start_time": "2022-12-04T12:06:23.709Z"
   },
   {
    "duration": 40,
    "start_time": "2022-12-04T12:06:25.061Z"
   },
   {
    "duration": 30,
    "start_time": "2022-12-04T12:06:39.472Z"
   },
   {
    "duration": 22,
    "start_time": "2022-12-04T12:06:41.907Z"
   },
   {
    "duration": 53,
    "start_time": "2022-12-04T12:06:44.069Z"
   },
   {
    "duration": 5,
    "start_time": "2022-12-04T12:06:45.504Z"
   },
   {
    "duration": 19,
    "start_time": "2022-12-04T12:06:46.705Z"
   },
   {
    "duration": 6,
    "start_time": "2022-12-04T12:06:53.791Z"
   },
   {
    "duration": 9,
    "start_time": "2022-12-04T12:06:55.201Z"
   },
   {
    "duration": 6,
    "start_time": "2022-12-04T12:06:56.473Z"
   },
   {
    "duration": 67,
    "start_time": "2022-12-04T12:07:00.025Z"
   },
   {
    "duration": 23,
    "start_time": "2022-12-04T12:07:01.239Z"
   },
   {
    "duration": 11,
    "start_time": "2022-12-04T12:07:03.084Z"
   },
   {
    "duration": 19,
    "start_time": "2022-12-04T12:07:05.004Z"
   },
   {
    "duration": 37,
    "start_time": "2022-12-04T12:07:06.069Z"
   },
   {
    "duration": 35,
    "start_time": "2022-12-04T12:07:06.666Z"
   },
   {
    "duration": 6,
    "start_time": "2022-12-04T12:07:08.573Z"
   },
   {
    "duration": 18,
    "start_time": "2022-12-04T12:07:09.336Z"
   },
   {
    "duration": 11,
    "start_time": "2022-12-04T12:07:10.493Z"
   },
   {
    "duration": 4,
    "start_time": "2022-12-04T12:07:12.218Z"
   },
   {
    "duration": 15,
    "start_time": "2022-12-04T12:07:12.789Z"
   },
   {
    "duration": 105,
    "start_time": "2022-12-04T12:23:49.080Z"
   },
   {
    "duration": 5,
    "start_time": "2022-12-04T12:24:07.724Z"
   },
   {
    "duration": 10,
    "start_time": "2022-12-04T12:24:53.133Z"
   },
   {
    "duration": 60,
    "start_time": "2022-12-04T12:25:32.265Z"
   },
   {
    "duration": 7,
    "start_time": "2022-12-04T12:25:41.499Z"
   },
   {
    "duration": 16,
    "start_time": "2022-12-04T12:27:35.963Z"
   },
   {
    "duration": 10,
    "start_time": "2022-12-04T12:28:28.669Z"
   },
   {
    "duration": 25,
    "start_time": "2022-12-04T12:29:40.133Z"
   },
   {
    "duration": 14,
    "start_time": "2022-12-04T12:31:05.633Z"
   },
   {
    "duration": 7,
    "start_time": "2022-12-04T12:31:48.073Z"
   },
   {
    "duration": 6,
    "start_time": "2022-12-04T12:38:53.098Z"
   },
   {
    "duration": 28,
    "start_time": "2022-12-04T12:40:06.329Z"
   },
   {
    "duration": 8,
    "start_time": "2022-12-04T12:40:29.894Z"
   },
   {
    "duration": 2,
    "start_time": "2022-12-04T12:40:54.197Z"
   },
   {
    "duration": 22,
    "start_time": "2022-12-04T12:40:59.962Z"
   },
   {
    "duration": 5,
    "start_time": "2022-12-04T12:41:16.277Z"
   },
   {
    "duration": 6,
    "start_time": "2022-12-04T12:42:01.325Z"
   },
   {
    "duration": 48,
    "start_time": "2022-12-04T12:42:20.114Z"
   },
   {
    "duration": 29,
    "start_time": "2022-12-04T12:42:45.628Z"
   },
   {
    "duration": 14,
    "start_time": "2022-12-04T12:43:24.660Z"
   },
   {
    "duration": 13,
    "start_time": "2022-12-04T12:44:16.957Z"
   },
   {
    "duration": 5,
    "start_time": "2022-12-04T12:44:23.310Z"
   },
   {
    "duration": 25,
    "start_time": "2022-12-04T12:44:42.468Z"
   },
   {
    "duration": 10,
    "start_time": "2022-12-04T12:46:26.657Z"
   },
   {
    "duration": 19,
    "start_time": "2022-12-04T12:48:20.746Z"
   },
   {
    "duration": 22,
    "start_time": "2022-12-04T12:49:22.760Z"
   },
   {
    "duration": 13,
    "start_time": "2022-12-04T12:49:32.065Z"
   },
   {
    "duration": 32,
    "start_time": "2022-12-04T12:50:28.262Z"
   },
   {
    "duration": 26,
    "start_time": "2022-12-04T12:50:35.229Z"
   },
   {
    "duration": 7,
    "start_time": "2022-12-04T12:52:35.004Z"
   },
   {
    "duration": 50,
    "start_time": "2022-12-04T12:52:52.161Z"
   },
   {
    "duration": 14,
    "start_time": "2022-12-04T12:52:59.528Z"
   },
   {
    "duration": 10,
    "start_time": "2022-12-04T12:56:19.324Z"
   },
   {
    "duration": 67,
    "start_time": "2022-12-04T12:56:36.377Z"
   },
   {
    "duration": 7,
    "start_time": "2022-12-04T12:56:43.609Z"
   },
   {
    "duration": 10,
    "start_time": "2022-12-04T12:57:15.945Z"
   },
   {
    "duration": 20,
    "start_time": "2022-12-04T12:58:39.359Z"
   },
   {
    "duration": 853,
    "start_time": "2022-12-04T12:59:12.458Z"
   },
   {
    "duration": 7,
    "start_time": "2022-12-04T12:59:26.991Z"
   },
   {
    "duration": 583,
    "start_time": "2022-12-04T12:59:39.793Z"
   },
   {
    "duration": 17,
    "start_time": "2022-12-04T13:00:05.227Z"
   },
   {
    "duration": 6,
    "start_time": "2022-12-04T13:00:26.624Z"
   },
   {
    "duration": 12,
    "start_time": "2022-12-04T13:00:35.891Z"
   },
   {
    "duration": 6,
    "start_time": "2022-12-04T13:32:31.175Z"
   },
   {
    "duration": 6,
    "start_time": "2022-12-04T13:32:54.561Z"
   },
   {
    "duration": 6,
    "start_time": "2022-12-04T13:33:34.125Z"
   },
   {
    "duration": 6,
    "start_time": "2022-12-04T13:33:51.310Z"
   },
   {
    "duration": 111,
    "start_time": "2022-12-04T13:34:12.632Z"
   },
   {
    "duration": 24,
    "start_time": "2022-12-04T13:34:13.465Z"
   },
   {
    "duration": 22,
    "start_time": "2022-12-04T13:34:14.179Z"
   },
   {
    "duration": 18,
    "start_time": "2022-12-04T13:34:15.575Z"
   },
   {
    "duration": 62,
    "start_time": "2022-12-04T13:34:15.941Z"
   },
   {
    "duration": 8,
    "start_time": "2022-12-04T13:34:16.702Z"
   },
   {
    "duration": 13,
    "start_time": "2022-12-04T13:34:17.726Z"
   },
   {
    "duration": 6,
    "start_time": "2022-12-04T13:34:24.975Z"
   },
   {
    "duration": 8,
    "start_time": "2022-12-04T13:34:26.642Z"
   },
   {
    "duration": 5,
    "start_time": "2022-12-04T13:34:27.827Z"
   },
   {
    "duration": 35,
    "start_time": "2022-12-04T13:34:34.678Z"
   },
   {
    "duration": 17,
    "start_time": "2022-12-04T13:34:36.170Z"
   },
   {
    "duration": 5,
    "start_time": "2022-12-04T13:34:37.914Z"
   },
   {
    "duration": 12,
    "start_time": "2022-12-04T13:34:39.679Z"
   },
   {
    "duration": 30,
    "start_time": "2022-12-04T13:34:40.595Z"
   },
   {
    "duration": 29,
    "start_time": "2022-12-04T13:34:41.043Z"
   },
   {
    "duration": 6,
    "start_time": "2022-12-04T13:34:42.461Z"
   },
   {
    "duration": 17,
    "start_time": "2022-12-04T13:34:43.079Z"
   },
   {
    "duration": 9,
    "start_time": "2022-12-04T13:34:46.072Z"
   },
   {
    "duration": 5,
    "start_time": "2022-12-04T13:34:47.608Z"
   },
   {
    "duration": 14,
    "start_time": "2022-12-04T13:34:48.201Z"
   },
   {
    "duration": 6,
    "start_time": "2022-12-04T13:34:50.710Z"
   },
   {
    "duration": 6,
    "start_time": "2022-12-04T13:35:02.342Z"
   },
   {
    "duration": 5,
    "start_time": "2022-12-04T13:37:46.226Z"
   },
   {
    "duration": 6,
    "start_time": "2022-12-04T13:37:57.676Z"
   },
   {
    "duration": 510,
    "start_time": "2022-12-04T13:39:06.597Z"
   },
   {
    "duration": 17,
    "start_time": "2022-12-04T13:39:29.202Z"
   },
   {
    "duration": 10,
    "start_time": "2022-12-04T13:41:20.805Z"
   },
   {
    "duration": 12,
    "start_time": "2022-12-04T13:45:36.093Z"
   },
   {
    "duration": 9,
    "start_time": "2022-12-04T13:51:24.795Z"
   },
   {
    "duration": 12,
    "start_time": "2022-12-04T13:52:09.440Z"
   },
   {
    "duration": 13,
    "start_time": "2022-12-04T13:53:02.872Z"
   },
   {
    "duration": 15,
    "start_time": "2022-12-04T13:53:49.525Z"
   },
   {
    "duration": 798,
    "start_time": "2022-12-04T13:53:59.611Z"
   },
   {
    "duration": 13,
    "start_time": "2022-12-04T13:54:14.360Z"
   },
   {
    "duration": 12,
    "start_time": "2022-12-04T13:54:38.739Z"
   },
   {
    "duration": 8,
    "start_time": "2022-12-04T13:55:17.712Z"
   },
   {
    "duration": 22,
    "start_time": "2022-12-04T14:11:03.322Z"
   },
   {
    "duration": 24,
    "start_time": "2022-12-04T14:11:12.272Z"
   },
   {
    "duration": 12,
    "start_time": "2022-12-04T14:11:19.790Z"
   },
   {
    "duration": 22,
    "start_time": "2022-12-04T14:12:06.105Z"
   },
   {
    "duration": 15,
    "start_time": "2022-12-04T14:12:50.357Z"
   },
   {
    "duration": 15,
    "start_time": "2022-12-04T14:32:08.798Z"
   },
   {
    "duration": 10,
    "start_time": "2022-12-04T14:33:29.736Z"
   },
   {
    "duration": 15,
    "start_time": "2022-12-04T14:33:41.338Z"
   },
   {
    "duration": 14,
    "start_time": "2022-12-04T14:35:29.317Z"
   },
   {
    "duration": 15,
    "start_time": "2022-12-04T14:51:51.530Z"
   },
   {
    "duration": 18,
    "start_time": "2022-12-04T15:01:47.031Z"
   },
   {
    "duration": 47,
    "start_time": "2022-12-05T06:40:47.686Z"
   },
   {
    "duration": 769,
    "start_time": "2022-12-05T06:40:56.804Z"
   },
   {
    "duration": 21,
    "start_time": "2022-12-05T06:40:57.575Z"
   },
   {
    "duration": 15,
    "start_time": "2022-12-05T06:40:57.598Z"
   },
   {
    "duration": 12,
    "start_time": "2022-12-05T06:40:57.964Z"
   },
   {
    "duration": 32,
    "start_time": "2022-12-05T06:40:58.236Z"
   },
   {
    "duration": 3,
    "start_time": "2022-12-05T06:40:58.725Z"
   },
   {
    "duration": 8,
    "start_time": "2022-12-05T06:40:59.065Z"
   },
   {
    "duration": 5,
    "start_time": "2022-12-05T06:40:59.724Z"
   },
   {
    "duration": 7,
    "start_time": "2022-12-05T06:41:00.236Z"
   },
   {
    "duration": 5,
    "start_time": "2022-12-05T06:41:00.595Z"
   },
   {
    "duration": 34,
    "start_time": "2022-12-05T06:41:01.254Z"
   },
   {
    "duration": 12,
    "start_time": "2022-12-05T06:41:01.684Z"
   },
   {
    "duration": 5,
    "start_time": "2022-12-05T06:41:02.940Z"
   },
   {
    "duration": 12,
    "start_time": "2022-12-05T06:41:03.555Z"
   },
   {
    "duration": 20,
    "start_time": "2022-12-05T06:41:03.866Z"
   },
   {
    "duration": 18,
    "start_time": "2022-12-05T06:41:03.993Z"
   },
   {
    "duration": 3,
    "start_time": "2022-12-05T06:41:04.686Z"
   },
   {
    "duration": 13,
    "start_time": "2022-12-05T06:41:05.116Z"
   },
   {
    "duration": 6,
    "start_time": "2022-12-05T06:41:06.133Z"
   },
   {
    "duration": 3,
    "start_time": "2022-12-05T06:41:07.187Z"
   },
   {
    "duration": 9,
    "start_time": "2022-12-05T06:41:07.645Z"
   },
   {
    "duration": 22,
    "start_time": "2022-12-05T06:41:09.730Z"
   },
   {
    "duration": 24,
    "start_time": "2022-12-05T06:42:04.055Z"
   },
   {
    "duration": 37,
    "start_time": "2022-12-05T06:42:50.094Z"
   },
   {
    "duration": 25,
    "start_time": "2022-12-05T06:43:11.167Z"
   },
   {
    "duration": 18,
    "start_time": "2022-12-05T06:43:22.674Z"
   },
   {
    "duration": 10,
    "start_time": "2022-12-05T06:44:13.990Z"
   },
   {
    "duration": 18,
    "start_time": "2022-12-05T06:44:42.757Z"
   },
   {
    "duration": 53,
    "start_time": "2022-12-05T06:47:19.766Z"
   },
   {
    "duration": 70,
    "start_time": "2022-12-05T06:48:23.830Z"
   },
   {
    "duration": 44,
    "start_time": "2022-12-05T06:48:40.863Z"
   },
   {
    "duration": 82,
    "start_time": "2022-12-05T06:54:05.900Z"
   },
   {
    "duration": 16,
    "start_time": "2022-12-05T06:54:33.004Z"
   },
   {
    "duration": 16,
    "start_time": "2022-12-05T06:55:01.159Z"
   },
   {
    "duration": 16,
    "start_time": "2022-12-05T06:55:33.399Z"
   },
   {
    "duration": 24,
    "start_time": "2022-12-05T06:55:44.310Z"
   },
   {
    "duration": 25,
    "start_time": "2022-12-05T07:01:22.515Z"
   },
   {
    "duration": 29,
    "start_time": "2022-12-05T07:03:26.163Z"
   },
   {
    "duration": 27,
    "start_time": "2022-12-05T07:07:11.339Z"
   },
   {
    "duration": 37,
    "start_time": "2022-12-05T07:07:45.097Z"
   },
   {
    "duration": 23,
    "start_time": "2022-12-05T07:08:14.022Z"
   },
   {
    "duration": 24,
    "start_time": "2022-12-05T07:09:33.087Z"
   },
   {
    "duration": 25,
    "start_time": "2022-12-05T07:09:48.509Z"
   },
   {
    "duration": 22,
    "start_time": "2022-12-05T07:10:10.517Z"
   },
   {
    "duration": 24,
    "start_time": "2022-12-05T07:10:29.286Z"
   },
   {
    "duration": 30,
    "start_time": "2022-12-05T07:10:36.009Z"
   },
   {
    "duration": 24,
    "start_time": "2022-12-05T07:19:21.072Z"
   },
   {
    "duration": 26,
    "start_time": "2022-12-05T07:19:40.397Z"
   },
   {
    "duration": 58,
    "start_time": "2022-12-05T07:20:11.259Z"
   },
   {
    "duration": 30,
    "start_time": "2022-12-05T07:20:54.410Z"
   },
   {
    "duration": 35,
    "start_time": "2022-12-05T07:22:36.100Z"
   },
   {
    "duration": 475,
    "start_time": "2022-12-05T07:23:10.969Z"
   },
   {
    "duration": 26,
    "start_time": "2022-12-05T07:23:36.765Z"
   },
   {
    "duration": 25,
    "start_time": "2022-12-05T07:24:19.640Z"
   },
   {
    "duration": 37,
    "start_time": "2022-12-05T07:25:43.389Z"
   },
   {
    "duration": 23,
    "start_time": "2022-12-05T07:25:56.880Z"
   },
   {
    "duration": 0,
    "start_time": "2022-12-05T07:43:03.561Z"
   },
   {
    "duration": 24,
    "start_time": "2022-12-05T07:43:33.154Z"
   },
   {
    "duration": 27,
    "start_time": "2022-12-05T07:43:57.557Z"
   },
   {
    "duration": 24,
    "start_time": "2022-12-05T07:44:04.902Z"
   },
   {
    "duration": 49,
    "start_time": "2022-12-05T07:46:26.184Z"
   },
   {
    "duration": 23,
    "start_time": "2022-12-05T07:46:37.106Z"
   },
   {
    "duration": 64,
    "start_time": "2022-12-05T07:47:07.949Z"
   },
   {
    "duration": 54,
    "start_time": "2022-12-05T07:47:16.297Z"
   },
   {
    "duration": 52,
    "start_time": "2022-12-05T07:47:22.334Z"
   },
   {
    "duration": 5,
    "start_time": "2022-12-05T07:47:42.816Z"
   },
   {
    "duration": 4,
    "start_time": "2022-12-05T07:48:14.209Z"
   },
   {
    "duration": 4,
    "start_time": "2022-12-05T07:48:25.088Z"
   },
   {
    "duration": 43,
    "start_time": "2022-12-05T07:48:31.822Z"
   },
   {
    "duration": 28,
    "start_time": "2022-12-05T07:48:55.924Z"
   },
   {
    "duration": 4,
    "start_time": "2022-12-05T07:49:13.798Z"
   },
   {
    "duration": 9,
    "start_time": "2022-12-05T07:49:14.515Z"
   },
   {
    "duration": 26,
    "start_time": "2022-12-05T07:49:15.199Z"
   },
   {
    "duration": 71,
    "start_time": "2022-12-05T07:49:31.470Z"
   },
   {
    "duration": 22,
    "start_time": "2022-12-05T07:49:31.764Z"
   },
   {
    "duration": 15,
    "start_time": "2022-12-05T07:49:32.125Z"
   },
   {
    "duration": 11,
    "start_time": "2022-12-05T07:49:32.705Z"
   },
   {
    "duration": 34,
    "start_time": "2022-12-05T07:49:33.005Z"
   },
   {
    "duration": 4,
    "start_time": "2022-12-05T07:49:33.638Z"
   },
   {
    "duration": 8,
    "start_time": "2022-12-05T07:49:33.965Z"
   },
   {
    "duration": 5,
    "start_time": "2022-12-05T07:49:34.480Z"
   },
   {
    "duration": 6,
    "start_time": "2022-12-05T07:49:34.815Z"
   },
   {
    "duration": 5,
    "start_time": "2022-12-05T07:49:35.167Z"
   },
   {
    "duration": 32,
    "start_time": "2022-12-05T07:49:35.759Z"
   },
   {
    "duration": 11,
    "start_time": "2022-12-05T07:49:36.277Z"
   },
   {
    "duration": 6,
    "start_time": "2022-12-05T07:49:37.592Z"
   },
   {
    "duration": 11,
    "start_time": "2022-12-05T07:49:38.349Z"
   },
   {
    "duration": 20,
    "start_time": "2022-12-05T07:49:38.673Z"
   },
   {
    "duration": 19,
    "start_time": "2022-12-05T07:49:38.787Z"
   },
   {
    "duration": 4,
    "start_time": "2022-12-05T07:49:39.485Z"
   },
   {
    "duration": 11,
    "start_time": "2022-12-05T07:49:39.767Z"
   },
   {
    "duration": 5,
    "start_time": "2022-12-05T07:49:40.518Z"
   },
   {
    "duration": 4,
    "start_time": "2022-12-05T07:49:41.528Z"
   },
   {
    "duration": 13,
    "start_time": "2022-12-05T07:49:41.987Z"
   },
   {
    "duration": 24,
    "start_time": "2022-12-05T07:49:42.400Z"
   },
   {
    "duration": 48,
    "start_time": "2022-12-05T07:50:46.263Z"
   },
   {
    "duration": 16,
    "start_time": "2022-12-05T07:51:15.572Z"
   },
   {
    "duration": 41,
    "start_time": "2022-12-05T07:51:21.475Z"
   },
   {
    "duration": 49,
    "start_time": "2022-12-05T07:51:28.693Z"
   },
   {
    "duration": 25,
    "start_time": "2022-12-05T07:51:41.066Z"
   },
   {
    "duration": 196,
    "start_time": "2022-12-05T07:52:10.754Z"
   },
   {
    "duration": 22,
    "start_time": "2022-12-05T07:52:18.893Z"
   },
   {
    "duration": 23,
    "start_time": "2022-12-05T07:57:29.379Z"
   },
   {
    "duration": 67,
    "start_time": "2022-12-05T08:01:40.578Z"
   },
   {
    "duration": 21,
    "start_time": "2022-12-05T08:01:41.167Z"
   },
   {
    "duration": 14,
    "start_time": "2022-12-05T08:01:41.447Z"
   },
   {
    "duration": 9,
    "start_time": "2022-12-05T08:01:41.988Z"
   },
   {
    "duration": 32,
    "start_time": "2022-12-05T08:01:42.364Z"
   },
   {
    "duration": 4,
    "start_time": "2022-12-05T08:01:42.937Z"
   },
   {
    "duration": 9,
    "start_time": "2022-12-05T08:01:43.295Z"
   },
   {
    "duration": 5,
    "start_time": "2022-12-05T08:01:43.913Z"
   },
   {
    "duration": 6,
    "start_time": "2022-12-05T08:01:44.294Z"
   },
   {
    "duration": 4,
    "start_time": "2022-12-05T08:01:44.801Z"
   },
   {
    "duration": 42,
    "start_time": "2022-12-05T08:01:46.131Z"
   },
   {
    "duration": 10,
    "start_time": "2022-12-05T08:01:46.788Z"
   },
   {
    "duration": 4,
    "start_time": "2022-12-05T08:01:47.325Z"
   },
   {
    "duration": 11,
    "start_time": "2022-12-05T08:01:48.036Z"
   },
   {
    "duration": 20,
    "start_time": "2022-12-05T08:01:48.418Z"
   },
   {
    "duration": 18,
    "start_time": "2022-12-05T08:01:48.617Z"
   },
   {
    "duration": 4,
    "start_time": "2022-12-05T08:01:49.156Z"
   },
   {
    "duration": 12,
    "start_time": "2022-12-05T08:01:49.324Z"
   },
   {
    "duration": 7,
    "start_time": "2022-12-05T08:01:49.755Z"
   },
   {
    "duration": 3,
    "start_time": "2022-12-05T08:01:50.177Z"
   },
   {
    "duration": 9,
    "start_time": "2022-12-05T08:01:50.817Z"
   },
   {
    "duration": 23,
    "start_time": "2022-12-05T08:01:51.582Z"
   },
   {
    "duration": 28,
    "start_time": "2022-12-05T09:02:18.776Z"
   },
   {
    "duration": 25,
    "start_time": "2022-12-05T09:26:32.781Z"
   },
   {
    "duration": 25,
    "start_time": "2022-12-05T09:26:56.525Z"
   },
   {
    "duration": 200,
    "start_time": "2022-12-05T09:33:28.533Z"
   },
   {
    "duration": 24,
    "start_time": "2022-12-05T09:34:12.551Z"
   },
   {
    "duration": 27,
    "start_time": "2022-12-05T09:47:31.880Z"
   },
   {
    "duration": 9,
    "start_time": "2022-12-05T10:44:19.329Z"
   },
   {
    "duration": 58,
    "start_time": "2022-12-05T10:44:30.343Z"
   },
   {
    "duration": 24,
    "start_time": "2022-12-05T10:45:35.397Z"
   },
   {
    "duration": 15,
    "start_time": "2022-12-05T10:46:20.425Z"
   },
   {
    "duration": 17,
    "start_time": "2022-12-05T10:47:11.500Z"
   },
   {
    "duration": 27,
    "start_time": "2022-12-05T10:47:20.045Z"
   },
   {
    "duration": 20,
    "start_time": "2022-12-05T10:48:11.991Z"
   },
   {
    "duration": 13,
    "start_time": "2022-12-05T10:48:36.969Z"
   },
   {
    "duration": 51,
    "start_time": "2022-12-05T10:48:49.574Z"
   },
   {
    "duration": 27,
    "start_time": "2022-12-05T10:48:56.105Z"
   },
   {
    "duration": 31,
    "start_time": "2022-12-05T10:49:46.372Z"
   },
   {
    "duration": 54,
    "start_time": "2022-12-05T11:03:28.507Z"
   },
   {
    "duration": 33,
    "start_time": "2022-12-05T11:03:37.839Z"
   },
   {
    "duration": 32,
    "start_time": "2022-12-05T11:03:54.116Z"
   },
   {
    "duration": 1134,
    "start_time": "2022-12-05T11:04:00.956Z"
   },
   {
    "duration": 936,
    "start_time": "2022-12-05T11:04:57.584Z"
   },
   {
    "duration": 45,
    "start_time": "2022-12-05T11:12:47.119Z"
   },
   {
    "duration": 57,
    "start_time": "2022-12-05T11:13:45.952Z"
   },
   {
    "duration": 55,
    "start_time": "2022-12-05T11:14:08.264Z"
   },
   {
    "duration": 4,
    "start_time": "2022-12-05T11:15:41.322Z"
   },
   {
    "duration": 4,
    "start_time": "2022-12-05T11:16:06.097Z"
   },
   {
    "duration": 1019,
    "start_time": "2022-12-05T11:17:48.182Z"
   },
   {
    "duration": 19,
    "start_time": "2022-12-05T11:18:07.664Z"
   },
   {
    "duration": 25,
    "start_time": "2022-12-05T11:18:42.671Z"
   },
   {
    "duration": 831,
    "start_time": "2022-12-05T11:19:11.714Z"
   },
   {
    "duration": 16,
    "start_time": "2022-12-05T11:20:49.171Z"
   },
   {
    "duration": 14,
    "start_time": "2022-12-05T11:22:40.267Z"
   },
   {
    "duration": 16,
    "start_time": "2022-12-05T11:25:34.302Z"
   },
   {
    "duration": 16,
    "start_time": "2022-12-05T11:27:25.062Z"
   },
   {
    "duration": 26,
    "start_time": "2022-12-05T11:29:12.104Z"
   },
   {
    "duration": 32,
    "start_time": "2022-12-05T11:29:35.668Z"
   },
   {
    "duration": 26,
    "start_time": "2022-12-05T11:38:40.293Z"
   },
   {
    "duration": 27,
    "start_time": "2022-12-05T11:38:50.632Z"
   },
   {
    "duration": 26,
    "start_time": "2022-12-05T11:39:01.174Z"
   },
   {
    "duration": 27,
    "start_time": "2022-12-05T11:39:18.962Z"
   },
   {
    "duration": 36,
    "start_time": "2022-12-05T11:39:29.672Z"
   },
   {
    "duration": 53,
    "start_time": "2022-12-05T16:41:42.748Z"
   },
   {
    "duration": 44,
    "start_time": "2022-12-05T16:43:25.177Z"
   },
   {
    "duration": 43,
    "start_time": "2022-12-05T16:43:52.449Z"
   },
   {
    "duration": 485,
    "start_time": "2022-12-06T06:43:09.644Z"
   },
   {
    "duration": 22,
    "start_time": "2022-12-06T06:43:10.131Z"
   },
   {
    "duration": 14,
    "start_time": "2022-12-06T06:43:10.552Z"
   },
   {
    "duration": 10,
    "start_time": "2022-12-06T06:43:11.674Z"
   },
   {
    "duration": 34,
    "start_time": "2022-12-06T06:43:12.470Z"
   },
   {
    "duration": 3,
    "start_time": "2022-12-06T06:43:14.162Z"
   },
   {
    "duration": 7,
    "start_time": "2022-12-06T06:43:14.940Z"
   },
   {
    "duration": 4,
    "start_time": "2022-12-06T06:43:16.483Z"
   },
   {
    "duration": 7,
    "start_time": "2022-12-06T06:43:17.520Z"
   },
   {
    "duration": 4,
    "start_time": "2022-12-06T06:43:21.602Z"
   },
   {
    "duration": 32,
    "start_time": "2022-12-06T06:43:23.125Z"
   },
   {
    "duration": 10,
    "start_time": "2022-12-06T06:43:23.752Z"
   },
   {
    "duration": 3,
    "start_time": "2022-12-06T06:43:25.053Z"
   },
   {
    "duration": 10,
    "start_time": "2022-12-06T06:43:26.172Z"
   },
   {
    "duration": 19,
    "start_time": "2022-12-06T06:43:26.813Z"
   },
   {
    "duration": 19,
    "start_time": "2022-12-06T06:43:27.344Z"
   },
   {
    "duration": 3,
    "start_time": "2022-12-06T06:43:28.825Z"
   },
   {
    "duration": 15,
    "start_time": "2022-12-06T06:43:29.534Z"
   },
   {
    "duration": 5,
    "start_time": "2022-12-06T06:43:30.544Z"
   },
   {
    "duration": 5,
    "start_time": "2022-12-06T06:43:32.105Z"
   },
   {
    "duration": 7,
    "start_time": "2022-12-06T06:43:32.749Z"
   },
   {
    "duration": 25,
    "start_time": "2022-12-06T06:43:33.336Z"
   },
   {
    "duration": 25,
    "start_time": "2022-12-06T06:44:01.548Z"
   },
   {
    "duration": 24,
    "start_time": "2022-12-06T06:44:25.275Z"
   },
   {
    "duration": 27,
    "start_time": "2022-12-06T06:44:44.158Z"
   },
   {
    "duration": 20,
    "start_time": "2022-12-06T06:51:17.738Z"
   },
   {
    "duration": 63,
    "start_time": "2022-12-06T06:51:41.266Z"
   },
   {
    "duration": 13,
    "start_time": "2022-12-06T06:51:50.445Z"
   },
   {
    "duration": 18,
    "start_time": "2022-12-06T06:52:00.449Z"
   },
   {
    "duration": 24,
    "start_time": "2022-12-06T06:52:33.624Z"
   },
   {
    "duration": 28,
    "start_time": "2022-12-06T06:52:38.352Z"
   },
   {
    "duration": 14,
    "start_time": "2022-12-06T06:53:32.258Z"
   },
   {
    "duration": 819,
    "start_time": "2022-12-06T06:54:00.416Z"
   },
   {
    "duration": 10,
    "start_time": "2022-12-06T06:55:01.373Z"
   },
   {
    "duration": 9,
    "start_time": "2022-12-06T06:55:36.106Z"
   },
   {
    "duration": 7,
    "start_time": "2022-12-06T06:55:42.012Z"
   },
   {
    "duration": 7,
    "start_time": "2022-12-06T06:55:53.418Z"
   },
   {
    "duration": 14,
    "start_time": "2022-12-06T06:56:07.511Z"
   },
   {
    "duration": 12,
    "start_time": "2022-12-06T06:56:22.177Z"
   },
   {
    "duration": 1091,
    "start_time": "2022-12-06T06:58:16.631Z"
   },
   {
    "duration": 76,
    "start_time": "2022-12-06T06:58:51.806Z"
   },
   {
    "duration": 1182,
    "start_time": "2022-12-06T06:59:39.277Z"
   },
   {
    "duration": 14,
    "start_time": "2022-12-06T07:01:22.137Z"
   },
   {
    "duration": 16,
    "start_time": "2022-12-06T07:01:36.897Z"
   },
   {
    "duration": 15,
    "start_time": "2022-12-06T07:14:40.263Z"
   },
   {
    "duration": 9,
    "start_time": "2022-12-06T07:15:17.682Z"
   },
   {
    "duration": 15,
    "start_time": "2022-12-06T07:15:24.607Z"
   },
   {
    "duration": 23,
    "start_time": "2022-12-06T07:16:07.159Z"
   },
   {
    "duration": 74,
    "start_time": "2022-12-06T07:16:31.799Z"
   },
   {
    "duration": 85,
    "start_time": "2022-12-06T07:16:37.531Z"
   },
   {
    "duration": 39,
    "start_time": "2022-12-06T07:16:46.352Z"
   },
   {
    "duration": 29,
    "start_time": "2022-12-06T07:21:58.260Z"
   },
   {
    "duration": 71,
    "start_time": "2022-12-06T07:22:12.310Z"
   },
   {
    "duration": 70,
    "start_time": "2022-12-06T07:22:36.669Z"
   },
   {
    "duration": 24,
    "start_time": "2022-12-06T07:22:50.175Z"
   },
   {
    "duration": 1222,
    "start_time": "2022-12-06T07:24:23.955Z"
   },
   {
    "duration": 21,
    "start_time": "2022-12-06T07:24:59.280Z"
   },
   {
    "duration": 9,
    "start_time": "2022-12-06T07:26:01.584Z"
   },
   {
    "duration": 24,
    "start_time": "2022-12-06T07:28:03.467Z"
   },
   {
    "duration": 10,
    "start_time": "2022-12-06T07:29:31.750Z"
   },
   {
    "duration": 1133,
    "start_time": "2022-12-06T07:29:42.185Z"
   },
   {
    "duration": 9,
    "start_time": "2022-12-06T07:30:44.948Z"
   },
   {
    "duration": 9,
    "start_time": "2022-12-06T07:31:52.356Z"
   },
   {
    "duration": 9,
    "start_time": "2022-12-06T07:31:56.387Z"
   },
   {
    "duration": 9,
    "start_time": "2022-12-06T07:32:16.672Z"
   },
   {
    "duration": 10,
    "start_time": "2022-12-06T07:32:28.953Z"
   },
   {
    "duration": 11,
    "start_time": "2022-12-06T07:32:41.725Z"
   },
   {
    "duration": 9,
    "start_time": "2022-12-06T07:32:46.766Z"
   },
   {
    "duration": 11,
    "start_time": "2022-12-06T07:41:38.778Z"
   },
   {
    "duration": 12,
    "start_time": "2022-12-06T07:42:34.412Z"
   },
   {
    "duration": 14,
    "start_time": "2022-12-06T07:42:42.331Z"
   },
   {
    "duration": 11,
    "start_time": "2022-12-06T07:43:06.362Z"
   },
   {
    "duration": 11,
    "start_time": "2022-12-06T07:43:07.951Z"
   },
   {
    "duration": 12,
    "start_time": "2022-12-06T07:43:50.737Z"
   },
   {
    "duration": 8,
    "start_time": "2022-12-06T07:44:10.918Z"
   },
   {
    "duration": 7,
    "start_time": "2022-12-06T07:44:13.309Z"
   },
   {
    "duration": 8,
    "start_time": "2022-12-06T07:44:27.811Z"
   },
   {
    "duration": 7,
    "start_time": "2022-12-06T07:45:05.889Z"
   },
   {
    "duration": 13,
    "start_time": "2022-12-06T07:46:10.372Z"
   },
   {
    "duration": 7,
    "start_time": "2022-12-06T07:46:16.947Z"
   },
   {
    "duration": 15,
    "start_time": "2022-12-06T07:46:32.413Z"
   },
   {
    "duration": 29,
    "start_time": "2022-12-06T07:48:30.796Z"
   },
   {
    "duration": 21,
    "start_time": "2022-12-06T07:49:01.218Z"
   },
   {
    "duration": 25,
    "start_time": "2022-12-06T07:49:44.596Z"
   },
   {
    "duration": 332,
    "start_time": "2022-12-06T07:50:39.218Z"
   },
   {
    "duration": 297,
    "start_time": "2022-12-06T07:51:06.267Z"
   },
   {
    "duration": 12,
    "start_time": "2022-12-06T07:51:15.769Z"
   },
   {
    "duration": 310,
    "start_time": "2022-12-06T07:52:05.628Z"
   },
   {
    "duration": 330,
    "start_time": "2022-12-06T07:52:30.650Z"
   },
   {
    "duration": 18,
    "start_time": "2022-12-06T07:52:51.795Z"
   },
   {
    "duration": 17,
    "start_time": "2022-12-06T07:53:20.587Z"
   },
   {
    "duration": 18,
    "start_time": "2022-12-06T07:53:45.757Z"
   },
   {
    "duration": 17,
    "start_time": "2022-12-06T07:54:14.876Z"
   },
   {
    "duration": 16,
    "start_time": "2022-12-06T07:54:40.073Z"
   },
   {
    "duration": 15,
    "start_time": "2022-12-06T07:55:03.465Z"
   },
   {
    "duration": 15,
    "start_time": "2022-12-06T07:55:23.368Z"
   }
  ],
  "colab": {
   "name": "dpp_template_part2.ipynb",
   "provenance": []
  },
  "kernelspec": {
   "display_name": "Python 3 (ipykernel)",
   "language": "python",
   "name": "python3"
  },
  "language_info": {
   "codemirror_mode": {
    "name": "ipython",
    "version": 3
   },
   "file_extension": ".py",
   "mimetype": "text/x-python",
   "name": "python",
   "nbconvert_exporter": "python",
   "pygments_lexer": "ipython3",
   "version": "3.9.13"
  },
  "toc": {
   "base_numbering": 1,
   "nav_menu": {},
   "number_sections": true,
   "sideBar": true,
   "skip_h1_title": true,
   "title_cell": "Table of Contents",
   "title_sidebar": "Contents",
   "toc_cell": false,
   "toc_position": {},
   "toc_section_display": true,
   "toc_window_display": false
  }
 },
 "nbformat": 4,
 "nbformat_minor": 5
}
